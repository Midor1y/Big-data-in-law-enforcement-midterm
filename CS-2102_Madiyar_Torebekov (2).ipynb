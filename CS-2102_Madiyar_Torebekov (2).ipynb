{
 "cells": [
  {
   "cell_type": "markdown",
   "id": "14e51821-af57-46cb-8767-02d772b07023",
   "metadata": {},
   "source": [
    "# Big Data in Law Enforcement"
   ]
  },
  {
   "cell_type": "markdown",
   "id": "b6375008-3879-494f-a988-e801398932c3",
   "metadata": {
    "tags": []
   },
   "source": [
    "## Introduction\n",
    "In this introduction, we will briefly review the key aspects of Big Data and cybersecurity. Big Data is the processing and analysis of large volumes of data, and cybersecurity is the field dedicated to protecting information and networks from cyber threats.\n"
   ]
  },
  {
   "cell_type": "markdown",
   "id": "7fe82d98-9c3f-47dd-a6a3-7a98f4f0cd61",
   "metadata": {
    "tags": []
   },
   "source": [
    "_Some of the popular languages that Data Scientists use are:_\n",
    "1. Python\n",
    "2. R\n",
    "3. SQL"
   ]
  },
  {
   "cell_type": "markdown",
   "id": "f00e56de-a3d2-4644-a88b-6b10b07e69fd",
   "metadata": {
    "tags": []
   },
   "source": [
    "_Some of the commonly used libraries used by Data Scientist include:_\n",
    "-Pandas\n",
    "-NumPy\n",
    "-Matplotlib\n"
   ]
  },
  {
   "cell_type": "markdown",
   "id": "96377ac6-1a6e-4ef8-92b8-02e44fbf4cac",
   "metadata": {},
   "source": [
    "| Data Science Tools        |\n",
    "|---------------------------|\n",
    "| Apache Hadoop             |\n",
    "| Jupyter Notebook          |\n",
    "| Apache Spark              |"
   ]
  },
  {
   "cell_type": "markdown",
   "id": "a8477c40-6b02-4ef8-a7bf-4997924292d9",
   "metadata": {},
   "source": [
    "### Examples of evaluating arithmetic expressions in Python\n",
    "Below are examples of evaluating arithmetic expressions in Python:\n",
    "\n",
    "1. Calculation of the amount:\n",
    "4 + 6\n",
    "This will calculate the sum of the numbers 4 and 6.\n",
    "\n",
    "2. Calculation of the product:\n",
    "3 * 8\n",
    "This will calculate the product of the numbers 3 and 8.\n",
    "\n",
    "3. Complex expression:\n",
    "(5 + 7) / 2\n",
    "This will perform complex calculations including sum and division."
   ]
  },
  {
   "cell_type": "code",
   "execution_count": 4,
   "id": "364affd0-2c2f-4c6a-a7d2-e5e541586951",
   "metadata": {
    "tags": []
   },
   "outputs": [
    {
     "data": {
      "text/plain": [
       "33"
      ]
     },
     "execution_count": 4,
     "metadata": {},
     "output_type": "execute_result"
    }
   ],
   "source": [
    "#  This is a simple arithmetic expression\n",
    "(4 * 6) + 9"
   ]
  },
  {
   "cell_type": "code",
   "execution_count": 8,
   "id": "8d647c62-3b30-48e5-99ba-56fe15515f5a",
   "metadata": {
    "tags": []
   },
   "outputs": [
    {
     "data": {
      "text/plain": [
       "5.0"
      ]
     },
     "execution_count": 8,
     "metadata": {},
     "output_type": "execute_result"
    }
   ],
   "source": [
    "# This converts 300 minutes to hours by dividing by 60\n",
    "300 / 60"
   ]
  },
  {
   "cell_type": "markdown",
   "id": "6edf3f3c-7237-4f64-a410-6d80ac3248d5",
   "metadata": {},
   "source": [
    "**Objectives**\n",
    "- List popular languages ​​for data science.\n",
    "- Provide an overview of popular libraries for data science.\n",
    "- Show examples of evaluating arithmetic expressions in Python.\n",
    "- Convert minutes to hours using the code.\n",
    "- Share information about tools for data science."
   ]
  },
  {
   "cell_type": "markdown",
   "id": "a8949b07-81bf-4b7c-abb7-c155cf715dfb",
   "metadata": {},
   "source": [
    "## Author\n",
    "Madiyar Torebekov"
   ]
  }
 ],
 "metadata": {
  "kernelspec": {
   "display_name": "Python 3 (ipykernel)",
   "language": "python",
   "name": "python3"
  },
  "language_info": {
   "codemirror_mode": {
    "name": "ipython",
    "version": 3
   },
   "file_extension": ".py",
   "mimetype": "text/x-python",
   "name": "python",
   "nbconvert_exporter": "python",
   "pygments_lexer": "ipython3",
   "version": "3.11.5"
  }
 },
 "nbformat": 4,
 "nbformat_minor": 5
}
